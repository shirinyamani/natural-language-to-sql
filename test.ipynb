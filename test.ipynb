{
 "cells": [
  {
   "cell_type": "code",
   "execution_count": 1,
   "metadata": {},
   "outputs": [],
   "source": [
    "from openai import OpenAI\n",
    "import os\n",
    "import pandas as pd\n",
    "import sqlalchemy\n",
    "from sqlalchemy import create_engine, text"
   ]
  },
  {
   "cell_type": "code",
   "execution_count": 4,
   "metadata": {},
   "outputs": [],
   "source": [
    "api_key = os.environ.get('openai_api_key')"
   ]
  },
  {
   "cell_type": "code",
   "execution_count": 5,
   "metadata": {},
   "outputs": [],
   "source": [
    "df = pd.read_csv('sales_data_sample.csv')"
   ]
  },
  {
   "cell_type": "code",
   "execution_count": 6,
   "metadata": {},
   "outputs": [],
   "source": [
    "# create a temp databese in memory\n",
    "temp_db = create_engine('sqlite:///:memory:', echo=True)\n"
   ]
  },
  {
   "cell_type": "code",
   "execution_count": 7,
   "metadata": {},
   "outputs": [
    {
     "name": "stdout",
     "output_type": "stream",
     "text": [
      "2024-01-24 15:42:18,204 INFO sqlalchemy.engine.Engine BEGIN (implicit)\n",
      "2024-01-24 15:42:18,210 INFO sqlalchemy.engine.Engine PRAGMA main.table_info(\"Sales\")\n",
      "2024-01-24 15:42:18,210 INFO sqlalchemy.engine.Engine [raw sql] ()\n",
      "2024-01-24 15:42:18,211 INFO sqlalchemy.engine.Engine PRAGMA temp.table_info(\"Sales\")\n",
      "2024-01-24 15:42:18,211 INFO sqlalchemy.engine.Engine [raw sql] ()\n",
      "2024-01-24 15:42:18,212 INFO sqlalchemy.engine.Engine \n",
      "CREATE TABLE \"Sales\" (\n",
      "\t\"index\" BIGINT, \n",
      "\t\"ORDERNUMBER\" BIGINT, \n",
      "\t\"QUANTITYORDERED\" BIGINT, \n",
      "\t\"PRICEEACH\" FLOAT, \n",
      "\t\"ORDERLINENUMBER\" BIGINT, \n",
      "\t\"SALES\" FLOAT, \n",
      "\t\"ORDERDATE\" TEXT, \n",
      "\t\"STATUS\" TEXT, \n",
      "\t\"QTR_ID\" BIGINT, \n",
      "\t\"MONTH_ID\" BIGINT, \n",
      "\t\"YEAR_ID\" BIGINT, \n",
      "\t\"PRODUCTLINE\" TEXT, \n",
      "\t\"MSRP\" BIGINT, \n",
      "\t\"PRODUCTCODE\" TEXT, \n",
      "\t\"CUSTOMERNAME\" TEXT, \n",
      "\t\"PHONE\" TEXT, \n",
      "\t\"ADDRESSLINE1\" TEXT, \n",
      "\t\"ADDRESSLINE2\" TEXT, \n",
      "\t\"CITY\" TEXT, \n",
      "\t\"STATE\" TEXT, \n",
      "\t\"POSTALCODE\" TEXT, \n",
      "\t\"COUNTRY\" TEXT, \n",
      "\t\"TERRITORY\" TEXT, \n",
      "\t\"CONTACTLASTNAME\" TEXT, \n",
      "\t\"CONTACTFIRSTNAME\" TEXT, \n",
      "\t\"DEALSIZE\" TEXT\n",
      ")\n",
      "\n",
      "\n",
      "2024-01-24 15:42:18,213 INFO sqlalchemy.engine.Engine [no key 0.00050s] ()\n",
      "2024-01-24 15:42:18,214 INFO sqlalchemy.engine.Engine CREATE INDEX \"ix_Sales_index\" ON \"Sales\" (\"index\")\n",
      "2024-01-24 15:42:18,214 INFO sqlalchemy.engine.Engine [no key 0.00029s] ()\n",
      "2024-01-24 15:42:18,238 INFO sqlalchemy.engine.Engine INSERT INTO \"Sales\" (\"index\", \"ORDERNUMBER\", \"QUANTITYORDERED\", \"PRICEEACH\", \"ORDERLINENUMBER\", \"SALES\", \"ORDERDATE\", \"STATUS\", \"QTR_ID\", \"MONTH_ID\", \"YEAR_ID\", \"PRODUCTLINE\", \"MSRP\", \"PRODUCTCODE\", \"CUSTOMERNAME\", \"PHONE\", \"ADDRESSLINE1\", \"ADDRESSLINE2\", \"CITY\", \"STATE\", \"POSTALCODE\", \"COUNTRY\", \"TERRITORY\", \"CONTACTLASTNAME\", \"CONTACTFIRSTNAME\", \"DEALSIZE\") VALUES (?, ?, ?, ?, ?, ?, ?, ?, ?, ?, ?, ?, ?, ?, ?, ?, ?, ?, ?, ?, ?, ?, ?, ?, ?, ?)\n",
      "2024-01-24 15:42:18,239 INFO sqlalchemy.engine.Engine [generated in 0.01663s] [(0, 10107, 30, 95.7, 2, 2871.0, '2/24/2003 0:00', 'Shipped', 1, 2, 2003, 'Motorcycles', 95, 'S10_1678', 'Land of Toys Inc.', '2125557818', '897 Long Airport Avenue', None, 'NYC', 'NY', '10022', 'USA', None, 'Yu', 'Kwai', 'Small'), (1, 10121, 34, 81.35, 5, 2765.9, '5/7/2003 0:00', 'Shipped', 2, 5, 2003, 'Motorcycles', 95, 'S10_1678', 'Reims Collectables', '26.47.1555', \"59 rue de l'Abbaye\", None, 'Reims', None, '51100', 'France', 'EMEA', 'Henriot', 'Paul', 'Small'), (2, 10134, 41, 94.74, 2, 3884.34, '7/1/2003 0:00', 'Shipped', 3, 7, 2003, 'Motorcycles', 95, 'S10_1678', 'Lyon Souveniers', '+33 1 46 62 7555', '27 rue du Colonel Pierre Avia', None, 'Paris', None, '75508', 'France', 'EMEA', 'Da Cunha', 'Daniel', 'Medium'), (3, 10145, 45, 83.26, 6, 3746.7, '8/25/2003 0:00', 'Shipped', 3, 8, 2003, 'Motorcycles', 95, 'S10_1678', 'Toys4GrownUps.com', '6265557265', '78934 Hillside Dr.', None, 'Pasadena', 'CA', '90003', 'USA', None, 'Young', 'Julie', 'Medium'), (4, 10159, 49, 100.0, 14, 5205.27, '10/10/2003 0:00', 'Shipped', 4, 10, 2003, 'Motorcycles', 95, 'S10_1678', 'Corporate Gift Ideas Co.', '6505551386', '7734 Strong St.', None, 'San Francisco', 'CA', None, 'USA', None, 'Brown', 'Julie', 'Medium'), (5, 10168, 36, 96.66, 1, 3479.76, '10/28/2003 0:00', 'Shipped', 4, 10, 2003, 'Motorcycles', 95, 'S10_1678', 'Technics Stores Inc.', '6505556809', '9408 Furth Circle', None, 'Burlingame', 'CA', '94217', 'USA', None, 'Hirano', 'Juri', 'Medium'), (6, 10180, 29, 86.13, 9, 2497.77, '11/11/2003 0:00', 'Shipped', 4, 11, 2003, 'Motorcycles', 95, 'S10_1678', 'Daedalus Designs Imports', '20.16.1555', '184, chausse de Tournai', None, 'Lille', None, '59000', 'France', 'EMEA', 'Rance', 'Martine', 'Small'), (7, 10188, 48, 100.0, 1, 5512.32, '11/18/2003 0:00', 'Shipped', 4, 11, 2003, 'Motorcycles', 95, 'S10_1678', 'Herkku Gifts', '+47 2267 3215', 'Drammen 121, PR 744 Sentrum', None, 'Bergen', None, 'N 5804', 'Norway', 'EMEA', 'Oeztan', 'Veysel', 'Medium')  ... displaying 10 of 2823 total bound parameter sets ...  (2821, 10397, 34, 62.24, 1, 2116.16, '3/28/2005 0:00', 'Shipped', 1, 3, 2005, 'Ships', 54, 'S72_3212', 'Alpha Cognac', '61.77.6555', '1 rue Alsace-Lorraine', None, 'Toulouse', None, '31000', 'France', 'EMEA', 'Roulet', 'Annette', 'Small'), (2822, 10414, 47, 65.52, 9, 3079.44, '5/6/2005 0:00', 'On Hold', 2, 5, 2005, 'Ships', 54, 'S72_3212', 'Gifts4AllAges.com', '6175559555', '8616 Spinnaker Dr.', None, 'Boston', 'MA', '51003', 'USA', None, 'Yoshido', 'Juri', 'Medium')]\n",
      "2024-01-24 15:42:18,250 INFO sqlalchemy.engine.Engine SELECT name FROM sqlite_master WHERE type='table' AND name NOT LIKE 'sqlite~_%' ESCAPE '~' ORDER BY name\n",
      "2024-01-24 15:42:18,251 INFO sqlalchemy.engine.Engine [raw sql] ()\n",
      "2024-01-24 15:42:18,251 INFO sqlalchemy.engine.Engine COMMIT\n"
     ]
    }
   ],
   "source": [
    "#push the pandas df ---> to temp db for us to be able to interact\n",
    "data = df.to_sql(name='Sales', con=temp_db)"
   ]
  },
  {
   "cell_type": "code",
   "execution_count": 8,
   "metadata": {},
   "outputs": [
    {
     "name": "stdout",
     "output_type": "stream",
     "text": [
      "2024-01-24 15:42:19,261 INFO sqlalchemy.engine.Engine BEGIN (implicit)\n",
      "2024-01-24 15:42:19,262 INFO sqlalchemy.engine.Engine SELECT SUM(SALES) FROM Sales GROUP BY QTR_ID LIMIT 5\n",
      "2024-01-24 15:42:19,262 INFO sqlalchemy.engine.Engine [generated in 0.00153s] ()\n",
      "2024-01-24 15:42:19,263 INFO sqlalchemy.engine.Engine ROLLBACK\n"
     ]
    }
   ],
   "source": [
    "#SQL query on TEMP DB\n",
    "with temp_db.connect() as conn:\n",
    "    result = conn.execute(text(\n",
    "        \"SELECT SUM(SALES) FROM Sales GROUP BY QTR_ID LIMIT 5\"\n",
    "        ))"
   ]
  },
  {
   "cell_type": "code",
   "execution_count": 9,
   "metadata": {},
   "outputs": [
    {
     "data": {
      "text/plain": [
       "[(2350817.7300000004,),\n",
       " (2048120.2999999986,),\n",
       " (1758910.8099999994,),\n",
       " (3874780.01,)]"
      ]
     },
     "execution_count": 9,
     "metadata": {},
     "output_type": "execute_result"
    }
   ],
   "source": [
    "result.all()"
   ]
  },
  {
   "cell_type": "code",
   "execution_count": 10,
   "metadata": {},
   "outputs": [],
   "source": [
    "#describe the actual database you are using to gpt; say this is the table, these are the columns\n",
    "def create_table_definition(df, table_name):\n",
    "    prompt = f\"\"\"### sqlite SQL table, with it properties:\n",
    "    #\n",
    "    # {table_name}({','.join(str(col) for col in df.columns)})\n",
    "    #\n",
    "    \"\"\"\n",
    "    return prompt\n"
   ]
  },
  {
   "cell_type": "code",
   "execution_count": 11,
   "metadata": {},
   "outputs": [
    {
     "name": "stdout",
     "output_type": "stream",
     "text": [
      "### sqlite SQL table, with it properties:\n",
      "    #\n",
      "    # Sales(ORDERNUMBER,QUANTITYORDERED,PRICEEACH,ORDERLINENUMBER,SALES,ORDERDATE,STATUS,QTR_ID,MONTH_ID,YEAR_ID,PRODUCTLINE,MSRP,PRODUCTCODE,CUSTOMERNAME,PHONE,ADDRESSLINE1,ADDRESSLINE2,CITY,STATE,POSTALCODE,COUNTRY,TERRITORY,CONTACTLASTNAME,CONTACTFIRSTNAME,DEALSIZE)\n",
      "    #\n",
      "    \n"
     ]
    }
   ],
   "source": [
    "print(create_table_definition(df, table_name='Sales'))"
   ]
  },
  {
   "cell_type": "code",
   "execution_count": 15,
   "metadata": {},
   "outputs": [],
   "source": [
    "def prompt_input():\n",
    "    nlp_text = input(\"What you want from the table? \")\n",
    "    return nlp_text"
   ]
  },
  {
   "cell_type": "code",
   "execution_count": 13,
   "metadata": {},
   "outputs": [],
   "source": [
    "def combine_prompts(df,table_name, query_prompt):\n",
    "    table_definition = create_table_definition(df, table_name)\n",
    "    query_init_string = f'### A query to answer: {query_prompt}\\nSELECT'\n",
    "    return table_definition+query_init_string"
   ]
  },
  {
   "cell_type": "code",
   "execution_count": 14,
   "metadata": {},
   "outputs": [
    {
     "data": {
      "text/plain": [
       "'### sqlite SQL table, with it properties:\\n    #\\n    # Sales(ORDERNUMBER,QUANTITYORDERED,PRICEEACH,ORDERLINENUMBER,SALES,ORDERDATE,STATUS,QTR_ID,MONTH_ID,YEAR_ID,PRODUCTLINE,MSRP,PRODUCTCODE,CUSTOMERNAME,PHONE,ADDRESSLINE1,ADDRESSLINE2,CITY,STATE,POSTALCODE,COUNTRY,TERRITORY,CONTACTLASTNAME,CONTACTFIRSTNAME,DEALSIZE)\\n    #\\n    ### A query to answer: w\\nSELECT'"
      ]
     },
     "execution_count": 14,
     "metadata": {},
     "output_type": "execute_result"
    }
   ],
   "source": [
    "nlp_text = prompt_input() #NLP\n",
    "combine_prompts(df=df, table_name='Sales', query_prompt=nlp_text) # DF + query that does... + NLP\n"
   ]
  },
  {
   "cell_type": "code",
   "execution_count": 16,
   "metadata": {},
   "outputs": [
    {
     "ename": "OpenAIError",
     "evalue": "The api_key client option must be set either by passing api_key to the client or by setting the OPENAI_API_KEY environment variable",
     "output_type": "error",
     "traceback": [
      "\u001b[0;31m---------------------------------------------------------------------------\u001b[0m",
      "\u001b[0;31mOpenAIError\u001b[0m                               Traceback (most recent call last)",
      "Cell \u001b[0;32mIn[16], line 1\u001b[0m\n\u001b[0;32m----> 1\u001b[0m client \u001b[38;5;241m=\u001b[39m \u001b[43mOpenAI\u001b[49m\u001b[43m(\u001b[49m\u001b[43m)\u001b[49m\n",
      "File \u001b[0;32m~/anaconda3/envs/ali-ml/lib/python3.10/site-packages/openai/_client.py:98\u001b[0m, in \u001b[0;36mOpenAI.__init__\u001b[0;34m(self, api_key, organization, base_url, timeout, max_retries, default_headers, default_query, http_client, _strict_response_validation)\u001b[0m\n\u001b[1;32m     96\u001b[0m     api_key \u001b[38;5;241m=\u001b[39m os\u001b[38;5;241m.\u001b[39menviron\u001b[38;5;241m.\u001b[39mget(\u001b[38;5;124m\"\u001b[39m\u001b[38;5;124mOPENAI_API_KEY\u001b[39m\u001b[38;5;124m\"\u001b[39m)\n\u001b[1;32m     97\u001b[0m \u001b[38;5;28;01mif\u001b[39;00m api_key \u001b[38;5;129;01mis\u001b[39;00m \u001b[38;5;28;01mNone\u001b[39;00m:\n\u001b[0;32m---> 98\u001b[0m     \u001b[38;5;28;01mraise\u001b[39;00m OpenAIError(\n\u001b[1;32m     99\u001b[0m         \u001b[38;5;124m\"\u001b[39m\u001b[38;5;124mThe api_key client option must be set either by passing api_key to the client or by setting the OPENAI_API_KEY environment variable\u001b[39m\u001b[38;5;124m\"\u001b[39m\n\u001b[1;32m    100\u001b[0m     )\n\u001b[1;32m    101\u001b[0m \u001b[38;5;28mself\u001b[39m\u001b[38;5;241m.\u001b[39mapi_key \u001b[38;5;241m=\u001b[39m api_key\n\u001b[1;32m    103\u001b[0m \u001b[38;5;28;01mif\u001b[39;00m organization \u001b[38;5;129;01mis\u001b[39;00m \u001b[38;5;28;01mNone\u001b[39;00m:\n",
      "\u001b[0;31mOpenAIError\u001b[0m: The api_key client option must be set either by passing api_key to the client or by setting the OPENAI_API_KEY environment variable"
     ]
    }
   ],
   "source": [
    "client = OpenAI()\n",
    "\n"
   ]
  },
  {
   "cell_type": "code",
   "execution_count": null,
   "metadata": {},
   "outputs": [],
   "source": []
  }
 ],
 "metadata": {
  "kernelspec": {
   "display_name": "ali-ml",
   "language": "python",
   "name": "python3"
  },
  "language_info": {
   "codemirror_mode": {
    "name": "ipython",
    "version": 3
   },
   "file_extension": ".py",
   "mimetype": "text/x-python",
   "name": "python",
   "nbconvert_exporter": "python",
   "pygments_lexer": "ipython3",
   "version": "3.10.12"
  }
 },
 "nbformat": 4,
 "nbformat_minor": 2
}
