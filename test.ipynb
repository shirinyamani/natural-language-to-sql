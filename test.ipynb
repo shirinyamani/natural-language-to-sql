{
 "cells": [
  {
   "cell_type": "code",
   "execution_count": 8,
   "metadata": {},
   "outputs": [],
   "source": [
    "from openai import OpenAI\n",
    "import os\n",
    "import pandas as pd\n",
    "import sqlalchemy\n",
    "from sqlalchemy import create_engine, text"
   ]
  },
  {
   "cell_type": "code",
   "execution_count": 4,
   "metadata": {},
   "outputs": [],
   "source": [
    "api_key = os.environ.get('api_key')\n"
   ]
  },
  {
   "cell_type": "code",
   "execution_count": 5,
   "metadata": {},
   "outputs": [],
   "source": [
    "df = pd.read_csv('sales_data_sample.csv')"
   ]
  },
  {
   "cell_type": "code",
   "execution_count": 11,
   "metadata": {},
   "outputs": [],
   "source": [
    "# create a temp databese in memory\n",
    "temp_db = create_engine('sqlite:///:memory:', echo=True)\n"
   ]
  },
  {
   "cell_type": "code",
   "execution_count": null,
   "metadata": {},
   "outputs": [],
   "source": [
    "#push the pandas df ---> to temp db for us to be able to interact\n",
    "data = df.to_sql(name='Sales', con=temp_db)"
   ]
  },
  {
   "cell_type": "code",
   "execution_count": 20,
   "metadata": {},
   "outputs": [
    {
     "name": "stdout",
     "output_type": "stream",
     "text": [
      "2024-01-24 11:55:10,882 INFO sqlalchemy.engine.Engine BEGIN (implicit)\n",
      "2024-01-24 11:55:10,883 INFO sqlalchemy.engine.Engine SELECT SUM(SALES) FROM Sales GROUP BY QTR_ID LIMIT 5\n",
      "2024-01-24 11:55:10,884 INFO sqlalchemy.engine.Engine [cached since 122.1s ago] ()\n",
      "2024-01-24 11:55:10,885 INFO sqlalchemy.engine.Engine ROLLBACK\n"
     ]
    }
   ],
   "source": [
    "#SQL query on TEMP DB\n",
    "with temp_db.connect() as conn:\n",
    "    result = conn.execute(text(\n",
    "        \"SELECT SUM(SALES) FROM Sales GROUP BY QTR_ID LIMIT 5\"\n",
    "        ))"
   ]
  },
  {
   "cell_type": "code",
   "execution_count": 19,
   "metadata": {},
   "outputs": [
    {
     "data": {
      "text/plain": [
       "[(2350817.7300000004,),\n",
       " (2048120.2999999986,),\n",
       " (1758910.8099999994,),\n",
       " (3874780.01,)]"
      ]
     },
     "execution_count": 19,
     "metadata": {},
     "output_type": "execute_result"
    }
   ],
   "source": [
    "result.all()"
   ]
  },
  {
   "cell_type": "code",
   "execution_count": null,
   "metadata": {},
   "outputs": [],
   "source": []
  }
 ],
 "metadata": {
  "kernelspec": {
   "display_name": "ali-ml",
   "language": "python",
   "name": "python3"
  },
  "language_info": {
   "codemirror_mode": {
    "name": "ipython",
    "version": 3
   },
   "file_extension": ".py",
   "mimetype": "text/x-python",
   "name": "python",
   "nbconvert_exporter": "python",
   "pygments_lexer": "ipython3",
   "version": "3.10.12"
  }
 },
 "nbformat": 4,
 "nbformat_minor": 2
}
